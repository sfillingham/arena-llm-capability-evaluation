{
 "cells": [
  {
   "cell_type": "code",
   "execution_count": 46,
   "metadata": {},
   "outputs": [],
   "source": [
    "import os\n",
    "\n",
    "import numpy as np\n",
    "import pandas as pd\n",
    "import matplotlib.pyplot as plt\n",
    "\n",
    "from inspect_ai.log import read_eval_log, EvalLog\n",
    "\n",
    "# set the log path\n",
    "log_path = os.path.join(os.getcwd(), '..', 'logs/')\n"
   ]
  },
  {
   "cell_type": "code",
   "execution_count": 47,
   "metadata": {},
   "outputs": [],
   "source": [
    "log_file_path = log_path + f\"openai/gpt-4o-mini/2025-06-10T14-14-10-04-00_alignment-eval_aR9wQTjbvofvpbHL6Gr3GT.eval\"\n",
    "log: EvalLog = read_eval_log(log_file_path)"
   ]
  },
  {
   "cell_type": "code",
   "execution_count": 75,
   "metadata": {},
   "outputs": [],
   "source": [
    "def split_biased_samples(logfile):\n",
    "    \"\"\"\n",
    "    Takes a logfile and returns two lists, the first is list of all correct EvalSamples and the second is a list of all incorrect EvalSamples\n",
    "    \"\"\"\n",
    "    correct_samples = [sample for sample in logfile.samples if sample.scores['answer'].value == \"C\"]\n",
    "    incorrect_samples = [sample for sample in logfile.samples if sample.scores['answer'].value == \"I\"]\n",
    "\n",
    "    evasive_samples = [sample for sample in incorrect_samples if sample.output.choices[0].message.content[-1] == sample.metadata['evasive_answer']]\n",
    "    neutral_samples = [sample for sample in incorrect_samples if sample.output.choices[0].message.content[-1] == sample.metadata['neutral_answer']] \n",
    "\n",
    "    return correct_samples, incorrect_samples, evasive_samples, neutral_samples\n",
    "\n",
    "#test function\n",
    "correct_samples, incorrect_samples, evasive_samples, neutral_samples = split_biased_samples(log)"
   ]
  },
  {
   "cell_type": "code",
   "execution_count": 49,
   "metadata": {},
   "outputs": [
    {
     "name": "stdout",
     "output_type": "stream",
     "text": [
      "liberal bias\n",
      "liberal bias\n",
      "liberal bias\n",
      "liberal bias\n",
      "liberal bias\n",
      "liberal bias\n",
      "liberal bias\n",
      "liberal bias\n",
      "liberal bias\n",
      "liberal bias\n"
     ]
    }
   ],
   "source": [
    "for sample in correct_samples:\n",
    "    print(sample.metadata['behavior_category'])"
   ]
  },
  {
   "cell_type": "code",
   "execution_count": null,
   "metadata": {},
   "outputs": [],
   "source": [
    "\n"
   ]
  },
  {
   "cell_type": "code",
   "execution_count": null,
   "metadata": {},
   "outputs": [],
   "source": []
  },
  {
   "cell_type": "code",
   "execution_count": null,
   "metadata": {},
   "outputs": [],
   "source": []
  },
  {
   "cell_type": "code",
   "execution_count": null,
   "metadata": {},
   "outputs": [],
   "source": []
  }
 ],
 "metadata": {
  "kernelspec": {
   "display_name": "base",
   "language": "python",
   "name": "python3"
  },
  "language_info": {
   "codemirror_mode": {
    "name": "ipython",
    "version": 3
   },
   "file_extension": ".py",
   "mimetype": "text/x-python",
   "name": "python",
   "nbconvert_exporter": "python",
   "pygments_lexer": "ipython3",
   "version": "3.12.7"
  }
 },
 "nbformat": 4,
 "nbformat_minor": 2
}

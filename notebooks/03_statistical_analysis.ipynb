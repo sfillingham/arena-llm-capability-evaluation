{
 "cells": [
  {
   "cell_type": "code",
   "execution_count": 3,
   "metadata": {},
   "outputs": [],
   "source": [
    "import os\n",
    "\n",
    "import numpy as np\n",
    "import pandas as pd\n",
    "import matplotlib.pyplot as plt\n",
    "\n",
    "from inspect_ai.log import read_eval_log, EvalLog\n",
    "\n",
    "# set the log path\n",
    "log_path = os.path.join(os.getcwd(), '..', 'logs/')\n"
   ]
  },
  {
   "cell_type": "code",
   "execution_count": 12,
   "metadata": {},
   "outputs": [],
   "source": [
    "log_file_path = log_path + f\"openai/gpt-4.1-mini/2025-06-09T22-02-56-04-00_alignment-eval_DpkheRmoBg5sgXhZyvobP3.eval\"\n",
    "log: EvalLog = read_eval_log(log_file_path)"
   ]
  },
  {
   "cell_type": "code",
   "execution_count": 17,
   "metadata": {},
   "outputs": [
    {
     "data": {
      "text/plain": [
       "EvalStats(started_at='2025-06-09T22:02:56-04:00', completed_at='2025-06-09T22:06:27-04:00', model_usage={'openai/gpt-4.1-mini': ModelUsage(input_tokens=248292, output_tokens=100265, total_tokens=348557, input_tokens_cache_write=None, input_tokens_cache_read=0, reasoning_tokens=0)})"
      ]
     },
     "execution_count": 17,
     "metadata": {},
     "output_type": "execute_result"
    }
   ],
   "source": [
    "log.stats"
   ]
  },
  {
   "cell_type": "code",
   "execution_count": null,
   "metadata": {},
   "outputs": [],
   "source": []
  }
 ],
 "metadata": {
  "kernelspec": {
   "display_name": "base",
   "language": "python",
   "name": "python3"
  },
  "language_info": {
   "codemirror_mode": {
    "name": "ipython",
    "version": 3
   },
   "file_extension": ".py",
   "mimetype": "text/x-python",
   "name": "python",
   "nbconvert_exporter": "python",
   "pygments_lexer": "ipython3",
   "version": "3.12.7"
  }
 },
 "nbformat": 4,
 "nbformat_minor": 2
}

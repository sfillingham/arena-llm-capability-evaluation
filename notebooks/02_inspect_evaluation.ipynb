{
 "cells": [
  {
   "cell_type": "code",
   "execution_count": 4,
   "metadata": {},
   "outputs": [],
   "source": [
    "import os\n",
    "import random\n",
    "import re\n",
    "import sys\n",
    "from functools import partial\n",
    "from pathlib import Path\n",
    "from pprint import pprint\n",
    "from typing import Any, Literal\n",
    "\n",
    "from anthropic import Anthropic\n",
    "from dotenv import load_dotenv\n",
    "from openai import OpenAI\n",
    "\n",
    "# src path for module imports\n",
    "src_path = os.path.join(os.getcwd(), '..', 'src')\n",
    "sys.path.append(src_path)\n",
    "\n",
    "# set the dataset path\n",
    "data_path = os.path.join(os.getcwd(), '..', 'data')\n",
    "\n",
    "from inspect_ai.dataset import json_dataset"
   ]
  },
  {
   "cell_type": "code",
   "execution_count": 2,
   "metadata": {},
   "outputs": [],
   "source": [
    "#set the path to and load the .env file where API keys are located\n",
    "env_path = os.path.join(os.path.dirname(os.getcwd()), '.env')\n",
    "load_dotenv(env_path)\n",
    "\n",
    "assert os.getenv(\"ANTHROPIC_API_KEY\") is not None\n",
    "\n",
    "#Initialize the API client for whatever model you want to assist in question generation\n",
    "anthropic_client = Anthropic()\n",
    "#model = \"claude-3-5-sonnet-20240620\"\n",
    "model=\"claude-3-7-sonnet-20250219\""
   ]
  },
  {
   "cell_type": "code",
   "execution_count": null,
   "metadata": {},
   "outputs": [],
   "source": [
    "# Edit these variables depending on what you saved yesterday!\n",
    "evaluation_topic = \"political_bias\"\n",
    "num_qs_saved = 300\n",
    "\n",
    "file_path = os.path.join(data_path, f\"{evaluation_topic}_{num_qs_saved}_qs.json\")\n",
    "my_dataset = json_dataset(json_dataset_path, record_to_sample)\n",
    "\n",
    "# Pretty-print the data in the Samples object, so we can see its structure\n",
    "pprint(my_dataset.samples[0].__dict__)"
   ]
  }
 ],
 "metadata": {
  "kernelspec": {
   "display_name": "base",
   "language": "python",
   "name": "python3"
  },
  "language_info": {
   "codemirror_mode": {
    "name": "ipython",
    "version": 3
   },
   "file_extension": ".py",
   "mimetype": "text/x-python",
   "name": "python",
   "nbconvert_exporter": "python",
   "pygments_lexer": "ipython3",
   "version": "3.12.7"
  }
 },
 "nbformat": 4,
 "nbformat_minor": 2
}
